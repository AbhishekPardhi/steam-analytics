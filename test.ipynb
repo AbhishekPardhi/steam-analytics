{
 "cells": [
  {
   "cell_type": "markdown",
   "metadata": {},
   "source": [
    "Trying to use Plotly Dash"
   ]
  },
  {
   "cell_type": "code",
   "execution_count": null,
   "metadata": {},
   "outputs": [],
   "source": [
    "from dash import Dash, dcc, html, Input, Output\n",
    "import plotly.graph_objects as go\n",
    "\n",
    "app = Dash(__name__)\n",
    "\n",
    "\n",
    "app.layout = html.Div([\n",
    "    html.H4('Interactive color selection with simple Dash example'),\n",
    "    html.P(\"Select color:\"),\n",
    "    dcc.Dropdown(\n",
    "        id=\"dropdown\",\n",
    "        options=['Gold', 'MediumTurquoise', 'LightGreen'],\n",
    "        value='Gold',\n",
    "        clearable=False,\n",
    "    ),\n",
    "    dcc.Graph(id=\"graph\"),\n",
    "])\n",
    "\n",
    "\n",
    "@app.callback(\n",
    "    Output(\"graph\", \"figure\"), \n",
    "    Input(\"dropdown\", \"value\"))\n",
    "def display_color(color):\n",
    "    fig = go.Figure(\n",
    "        data=go.Bar(y=[2, 3, 1], # replace with your own data source\n",
    "                    marker_color=color))\n",
    "    return fig\n",
    "\n",
    "\n",
    "app.run_server(debug=True)\n"
   ]
  },
  {
   "cell_type": "code",
   "execution_count": null,
   "metadata": {},
   "outputs": [],
   "source": [
    "from dash import Dash, html, dcc, callback, Output, Input\n",
    "import plotly.express as px\n",
    "import pandas as pd\n",
    "\n",
    "df = pd.read_csv('https://raw.githubusercontent.com/plotly/datasets/master/gapminder_unfiltered.csv')\n",
    "\n",
    "app = Dash(__name__)\n",
    "\n",
    "app.layout = html.Div([\n",
    "    html.H1(children='Title of Dash App', style={'textAlign':'center'}),\n",
    "    dcc.Dropdown(df.country.unique(), 'Canada', id='dropdown-selection'),\n",
    "    dcc.Graph(id='graph-content')\n",
    "])\n",
    "\n",
    "@callback(\n",
    "    Output('graph-content', 'figure'),\n",
    "    Input('dropdown-selection', 'value')\n",
    ")\n",
    "def update_graph(value):\n",
    "    dff = df[df.country==value]\n",
    "    return px.line(dff, x='year', y='pop')\n",
    "\n",
    "if __name__ == '__main__':\n",
    "    app.run(debug=True)"
   ]
  },
  {
   "cell_type": "code",
   "execution_count": 1,
   "metadata": {},
   "outputs": [],
   "source": [
    "import plotly.express as px\n",
    "fig = px.bar(x=[\"a\", \"b\", \"c\"], y=[1, 3, 2])\n",
    "fig.write_html('first_figure.html', auto_open=True)"
   ]
  },
  {
   "cell_type": "markdown",
   "metadata": {},
   "source": [
    "### Columns:\n",
    "AppID,Name,Release date,Estimated owners,Peak CCU,Required age,Price,DLC count,About the game,Supported languages,Full audio languages,Reviews,Header image,Website,Support url,Support email,Windows,Mac,Linux,Metacritic score,Metacritic url,User score,Positive,Negative,Score rank,Achievements,Recommendations,Notes,Average playtime forever,Average playtime two weeks,Median playtime forever,Median playtime two weeks,Developers,Publishers,Categories,Genres,Tags,Screenshots,Movies"
   ]
  },
  {
   "cell_type": "markdown",
   "metadata": {},
   "source": [
    "### Price Sensitivity Analysis:\n",
    "- Conduct price sensitivity analysis for each genre to determine the price elasticity of demand.\n",
    "- Visualize demand or price-response curves to identify optimal pricing strategies for maximizing revenue."
   ]
  },
  {
   "cell_type": "code",
   "execution_count": 112,
   "metadata": {},
   "outputs": [
    {
     "name": "stdout",
     "output_type": "stream",
     "text": [
      "Number of rows before explosion: 85103\n",
      "Number of rows after explosion: 236687\n",
      "Difference in rows: 2.78 times\n"
     ]
    },
    {
     "data": {
      "text/html": [
       "\n",
       "        <iframe\n",
       "            width=\"100%\"\n",
       "            height=\"650\"\n",
       "            src=\"http://127.0.0.1:8050/\"\n",
       "            frameborder=\"0\"\n",
       "            allowfullscreen\n",
       "            \n",
       "        ></iframe>\n",
       "        "
      ],
      "text/plain": [
       "<IPython.lib.display.IFrame at 0x2f0459b3c70>"
      ]
     },
     "metadata": {},
     "output_type": "display_data"
    }
   ],
   "source": [
    "import dash\n",
    "from dash import dcc, html\n",
    "from dash.dependencies import Input, Output\n",
    "import plotly.express as px\n",
    "import pandas as pd\n",
    "\n",
    "# Load the dataset\n",
    "# Assuming the dataset is stored in a CSV file named 'games_data.csv'\n",
    "df = pd.read_csv('data/games.csv')\n",
    "\n",
    "# Preprocess the data: Calculate average value for 'Estimated owners' range\n",
    "df['Estimated owners'] = df['Estimated owners'].str.replace('[^\\d-]+', '', regex=True)\n",
    "df[['Min Owners', 'Max Owners']] = df['Estimated owners'].str.split('-', expand=True).astype(float)\n",
    "df['Average Owners'] = (df['Min Owners'] + df['Max Owners']) / 2\n",
    "\n",
    "# Filter out games priced below $30\n",
    "# df = df[df['Price'] <= 30]\n",
    "\n",
    "# Calculate number of rows before explosion\n",
    "rows_before = len(df)\n",
    "\n",
    "# Duplicate rows for each genre\n",
    "genre_list = df['Genres'].str.split(',', expand=True).stack().unique()\n",
    "df = df.assign(Genre=df['Genres'].str.split(','), observed=True).explode('Genre')\n",
    "\n",
    "# Calculate number of rows after explosion\n",
    "rows_after = len(df)\n",
    "\n",
    "# Calculate the difference in rows\n",
    "rows_difference = rows_after - rows_before\n",
    "\n",
    "# Print the comparison\n",
    "print(f\"Number of rows before explosion: {rows_before}\")\n",
    "print(f\"Number of rows after explosion: {rows_after}\")\n",
    "print(f\"Difference in rows: {rows_after/rows_before:.2f} times\")\n",
    "\n",
    "# Define the Dash app\n",
    "app = dash.Dash(__name__)\n",
    "\n",
    "# Define the layout of the Dash app\n",
    "app.layout = html.Div([\n",
    "    dcc.Dropdown(\n",
    "        id='genre-dropdown',\n",
    "        options=[{'label': genre, 'value': genre} for genre in genre_list],\n",
    "        value=genre_list[0],  # Default value\n",
    "        clearable=False\n",
    "    ),\n",
    "    dcc.Graph(id='demand-histogram')\n",
    "])\n",
    "\n",
    "# Define callback to update the demand histogram based on selected genre\n",
    "@app.callback(\n",
    "    Output('demand-histogram', 'figure'),\n",
    "    [Input('genre-dropdown', 'value')]\n",
    ")\n",
    "def update_demand_histogram(genre):\n",
    "    genre_data = df[df['Genre'] == genre]\n",
    "    # Perform analysis and visualization here\n",
    "    # Example: Plot histogram of average owners for each price range\n",
    "    \n",
    "    # Replace the following code with your analysis and visualization\n",
    "    fig = px.histogram(genre_data, x='Price', y='Average Owners', nbins=30, \n",
    "                       title=f'Average Owners Distribution for {genre}', \n",
    "                       labels={'Price': 'Price Range', 'Average Owners': 'Average Owners'},\n",
    "                       histfunc='avg')\n",
    "    return fig\n",
    "\n",
    "# Run the Dash app\n",
    "if __name__ == '__main__':\n",
    "    app.run_server(debug=True)"
   ]
  },
  {
   "cell_type": "code",
   "execution_count": 111,
   "metadata": {},
   "outputs": [
    {
     "data": {
      "text/plain": [
       "<Axes: >"
      ]
     },
     "execution_count": 111,
     "metadata": {},
     "output_type": "execute_result"
    },
    {
     "data": {
      "image/png": "[encoded data removed]",
      "text/plain": [
       "<Figure size 640x480 with 1 Axes>"
      ]
     },
     "metadata": {},
     "output_type": "display_data"
    }
   ],
   "source": [
    "from matplotlib import pyplot as plt\n",
    "df.boxplot(column=['Price'])"
   ]
  },
  {
   "cell_type": "code",
   "execution_count": null,
   "metadata": {},
   "outputs": [],
   "source": []
  }
 ],
 "metadata": {
  "kernelspec": {
   "display_name": "steam",
   "language": "python",
   "name": "python3"
  },
  "language_info": {
   "codemirror_mode": {
    "name": "ipython",
    "version": 3
   },
   "file_extension": ".py",
   "mimetype": "text/x-python",
   "name": "python",
   "nbconvert_exporter": "python",
   "pygments_lexer": "ipython3",
   "version": "3.10.14"
  }
 },
 "nbformat": 4,
 "nbformat_minor": 2
}
